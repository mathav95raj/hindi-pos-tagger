{
 "cells": [
  {
   "cell_type": "code",
   "execution_count": 170,
   "metadata": {},
   "outputs": [],
   "source": [
    "# let's use the brown corpus\n",
    "from nltk.corpus import brown\n",
    "data = brown.tagged_sents(tagset='universal')"
   ]
  },
  {
   "cell_type": "code",
   "execution_count": 171,
   "metadata": {},
   "outputs": [],
   "source": [
    "from collections import defaultdict\n",
    "count = defaultdict(int)\n",
    "all_tags = set([])\n",
    "for sentence in data[:20000]:\n",
    "    prev_tag = '$'\n",
    "    count[prev_tag] += 1\n",
    "    for word,tag in sentence:\n",
    "        count[(word.lower(), tag)] += 1\n",
    "        count[(tag, prev_tag)] += 1\n",
    "        count[tag] += 1\n",
    "        prev_tag = tag\n",
    "        all_tags.add(tag)"
   ]
  },
  {
   "cell_type": "code",
   "execution_count": 172,
   "metadata": {
    "collapsed": true
   },
   "outputs": [],
   "source": [
    "from __future__ import division\n",
    "prob = defaultdict(lambda :0.000001)\n",
    "for item in count:\n",
    "    if type(item)==tuple:\n",
    "        prob[item] = count[item]/count[item[1]]"
   ]
  },
  {
   "cell_type": "code",
   "execution_count": 173,
   "metadata": {},
   "outputs": [],
   "source": [
    "all_tags = list(all_tags)"
   ]
  },
  {
   "cell_type": "code",
   "execution_count": 176,
   "metadata": {},
   "outputs": [],
   "source": [
    "import numpy as np\n",
    "from math import log\n",
    "tot = 0\n",
    "matched = 0\n",
    "for sentence in data[20000:20500]:\n",
    "    P = np.zeros((len(all_tags),len(sentence)))\n",
    "    parent = np.zeros((len(all_tags),len(sentence)), dtype='int')\n",
    "    pred = []\n",
    "    for w in range(len(sentence)):\n",
    "        for t in range(len(all_tags)):\n",
    "            if w==0:\n",
    "                P[t][w] = prob[(sentence[w][0].lower(),all_tags[t])]*prob[(all_tags[t],'$')] # 2nd formula\n",
    "            else:\n",
    "                mx_prob = -1.0*float('inf')\n",
    "                for j in range(len(all_tags)):\n",
    "                    if P[j][w-1]*prob[(all_tags[t],all_tags[j])] > mx_prob:\n",
    "                        mx_prob = P[j][w-1]*prob[(all_tags[t],all_tags[j])]\n",
    "                        best_tag = j\n",
    "                P[t][w] = prob[(sentence[w][0].lower(),all_tags[t])]*mx_prob  # 1st formula\n",
    "                parent[t,w] = best_tag\n",
    "    currnt_tag = np.argmax(P[:,-1])\n",
    "    pred.append(all_tags[currnt_tag])\n",
    "    for k in range(len(sentence)-1,0,-1):\n",
    "        pred.append(all_tags[parent[currnt_tag,k]])\n",
    "        currnt_tag = parent[currnt_tag,k]\n",
    "    pred = pred[::-1]\n",
    "    for l in range(len(sentence)):\n",
    "        if pred[l]==sentence[l][1]:\n",
    "            matched += 1\n",
    "        tot += 1"
   ]
  },
  {
   "cell_type": "code",
   "execution_count": 177,
   "metadata": {},
   "outputs": [
    {
     "data": {
      "text/plain": [
       "0.9386808367071525"
      ]
     },
     "execution_count": 177,
     "metadata": {},
     "output_type": "execute_result"
    }
   ],
   "source": [
    "matched/tot"
   ]
  },
  {
   "cell_type": "code",
   "execution_count": null,
   "metadata": {
    "collapsed": true
   },
   "outputs": [],
   "source": []
  }
 ],
 "metadata": {
  "kernelspec": {
   "display_name": "Python 2",
   "language": "python",
   "name": "python2"
  },
  "language_info": {
   "codemirror_mode": {
    "name": "ipython",
    "version": 2
   },
   "file_extension": ".py",
   "mimetype": "text/x-python",
   "name": "python",
   "nbconvert_exporter": "python",
   "pygments_lexer": "ipython2",
   "version": "2.7.13"
  }
 },
 "nbformat": 4,
 "nbformat_minor": 2
}
